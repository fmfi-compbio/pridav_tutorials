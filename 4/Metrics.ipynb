{
 "cells": [
  {
   "cell_type": "code",
   "execution_count": 1,
   "id": "3706c7d3",
   "metadata": {},
   "outputs": [],
   "source": [
    "import matplotlib.pyplot as plt\n",
    "import numpy as np"
   ]
  },
  {
   "cell_type": "code",
   "execution_count": 2,
   "id": "c191baf4",
   "metadata": {},
   "outputs": [],
   "source": [
    "# Read very carefully what you should submit in each task"
   ]
  },
  {
   "cell_type": "code",
   "execution_count": 3,
   "id": "85dae16c",
   "metadata": {},
   "outputs": [],
   "source": [
    "# This tutorial will be about metrics in context of machine learning.\n",
    "# Choosing wrong metric will ensure, that your ML project is failure, so choose wisely.\n",
    "\n",
    "# Metric takes predictions and ground truth (called targets) and outputs (usually) one number.\n",
    "# Note that metric does not have to differentiable (example is accuracy)\n",
    "# Also metric should be understandable without having PhD in math \n",
    "# (that means that binary crossentropy is usually a bad metric)."
   ]
  },
  {
   "cell_type": "markdown",
   "id": "234f697c",
   "metadata": {},
   "source": [
    "## Absolute vs squared error"
   ]
  },
  {
   "cell_type": "code",
   "execution_count": 4,
   "id": "528091dd",
   "metadata": {},
   "outputs": [
    {
     "data": {
      "text/plain": [
       "(2.5, 1.5)"
      ]
     },
     "execution_count": 4,
     "metadata": {},
     "output_type": "execute_result"
    }
   ],
   "source": [
    "# Consider following two metrics, with example calculation below\n",
    "\n",
    "def mean_squared_error(predictions, targets):\n",
    "    return np.square(predictions - targets).mean()\n",
    "\n",
    "def mean_absolute_error(predictions, targets):\n",
    "    return np.abs(predictions - targets).mean()\n",
    "\n",
    "predictions = np.array([0, 5])\n",
    "targets = np.array([1, 7])\n",
    "mean_squared_error(predictions, targets), mean_absolute_error(predictions, targets)"
   ]
  },
  {
   "cell_type": "code",
   "execution_count": 5,
   "id": "077b1a42",
   "metadata": {},
   "outputs": [
    {
     "name": "stdout",
     "output_type": "stream",
     "text": [
      "Target vs predictions1\n"
     ]
    },
    {
     "data": {
      "image/png": "[encoded data removed]",
      "text/plain": [
       "<Figure size 432x288 with 1 Axes>"
      ]
     },
     "metadata": {
      "needs_background": "light"
     },
     "output_type": "display_data"
    },
    {
     "name": "stdout",
     "output_type": "stream",
     "text": [
      "Target vs predictions2\n"
     ]
    },
    {
     "data": {
      "image/png": "[encoded data removed]",
      "text/plain": [
       "<Figure size 432x288 with 1 Axes>"
      ]
     },
     "metadata": {
      "needs_background": "light"
     },
     "output_type": "display_data"
    }
   ],
   "source": [
    "# Which one is better? That depends on the problem. \n",
    "# Consider following set of predictions and targets.\n",
    "\n",
    "targets =      np.array([0,1,2,3,4])\n",
    "predictions1 = np.array([0,1,2,3,12])\n",
    "predictions2 = np.array([4,3,2,1,0])\n",
    "\n",
    "print(\"Target vs predictions1\")\n",
    "plt.scatter(targets, predictions1)\n",
    "plt.ylim(-1, 13)\n",
    "plt.grid()\n",
    "plt.xlabel(\"Targets\")\n",
    "plt.ylabel(\"Predictions 1\")\n",
    "plt.show()\n",
    "\n",
    "print(\"Target vs predictions2\")\n",
    "plt.scatter(targets, predictions2)\n",
    "plt.ylim(-1, 13)\n",
    "plt.grid()\n",
    "plt.xlabel(\"Targets\")\n",
    "plt.ylabel(\"Predictions 2\")\n",
    "plt.show()"
   ]
  },
  {
   "cell_type": "code",
   "execution_count": 6,
   "id": "e740a26e",
   "metadata": {},
   "outputs": [
    {
     "name": "stdout",
     "output_type": "stream",
     "text": [
      "Mean squared error (MSE)\n",
      "MSE for predictions 1 12.8\n",
      "MSE for predictions 2 8.0\n",
      "Mean absolute error (MAE)\n",
      "MAE for predictions 1 1.6\n",
      "MAE for predictions 2 2.4\n"
     ]
    }
   ],
   "source": [
    "# It seems that first set of prediction is either completelly correct, or off by a lot.\n",
    "# Maybe it is some outlier in data or wrong data point.\n",
    "# Second set of prediction has completelly opposite trend and does not look right.\n",
    "# Let's look at metrics\n",
    "\n",
    "print(\"Mean squared error (MSE)\")\n",
    "print(\"MSE for predictions 1\", mean_squared_error(predictions1, targets))\n",
    "print(\"MSE for predictions 2\", mean_squared_error(predictions2, targets))\n",
    "print(\"Mean absolute error (MAE)\")\n",
    "print(\"MAE for predictions 1\", mean_absolute_error(predictions1, targets))\n",
    "print(\"MAE for predictions 2\", mean_absolute_error(predictions2, targets))"
   ]
  },
  {
   "cell_type": "code",
   "execution_count": 7,
   "id": "1280c632",
   "metadata": {},
   "outputs": [],
   "source": [
    "# Now we see, that metrics rank our predictions differently. \n",
    "# Squared error like the second ones better.\n",
    "# Absolute error prefers first one.\n",
    "# This is not completelly good argument that one metric is better than second one,\n",
    "# but demonstrates, that squared error is sensitive to outliers.\n",
    "\n",
    "# Also it is better argument than just looking at the values. Any metric can be\n",
    "# scaled by a constant, or counted in different units\n",
    "# so comparing numerical output of two metrics is like comparing volts with meters \n",
    "# and basically meaningless.\n",
    "# But we can still compare ability of metric to rank data in a meaningful way."
   ]
  },
  {
   "cell_type": "markdown",
   "id": "b8f9057f",
   "metadata": {},
   "source": [
    "#### Task 1"
   ]
  },
  {
   "cell_type": "code",
   "execution_count": 8,
   "id": "bd8d3d7d",
   "metadata": {},
   "outputs": [],
   "source": [
    "# Task 1:\n",
    "# You are predicting prices of flats.\n",
    "# Your boss tells you, that nobody cares about small errors, but big errors are a problem.\n",
    "# You also manually checked everything and there are no outliers.\n",
    "\n",
    "# Which metric would you choose between square and absolute error?\n",
    "# Provide justification and also demonstrate reason for your choice by constructing \n",
    "# some small dataset with multiple sets of predictions\n",
    "# and comparing outputs of metrics."
   ]
  },
  {
   "cell_type": "markdown",
   "id": "548cf83c",
   "metadata": {},
   "source": [
    "## Custom metrics - task 2"
   ]
  },
  {
   "cell_type": "code",
   "execution_count": 9,
   "id": "5aca8764",
   "metadata": {},
   "outputs": [],
   "source": [
    "# Keep in mind that you can also make a metric tailored to your usecase, \n",
    "# we will do this in the task below."
   ]
  },
  {
   "cell_type": "code",
   "execution_count": 10,
   "id": "edce965e",
   "metadata": {},
   "outputs": [],
   "source": [
    "# Task 2:\n",
    "# You are predicting prices of flats.\n",
    "# Your boss made a new contract, which has following terms.\n",
    "# For each prediction (for one flat):\n",
    "# - If your prediction has error less (or equal) than 5%, than your company will earn 1000$\n",
    "# - If your prediction has error more than 5%, your company pays 10000$ fine.\n",
    "\n",
    "# Construct a custom metric for comparing models in this setting.\n",
    "# Provide justification and also demonstrate reason for your choice by constructing \n",
    "# some small dataset with multiple sets of predictions\n",
    "# and comparing outputs of metrics. Also demonstrate that your metric is better\n",
    "# than selected metric from task 1."
   ]
  },
  {
   "cell_type": "markdown",
   "id": "8e308f8b",
   "metadata": {},
   "source": [
    "## Metrics for binary classification"
   ]
  },
  {
   "cell_type": "code",
   "execution_count": 11,
   "id": "86a0c476",
   "metadata": {},
   "outputs": [
    {
     "data": {
      "text/plain": [
       "array([1, 1, 1, 1, 1, 0, 0, 0, 0, 0, 0, 0, 0, 0, 0, 0, 0, 0, 0, 0, 0, 0,\n",
       "       0, 0, 0, 0, 0, 0, 0, 0, 0, 0, 0, 0, 0, 0, 0, 0, 0, 0, 0, 0, 0, 0,\n",
       "       0, 0, 0, 0, 0, 0])"
      ]
     },
     "execution_count": 11,
     "metadata": {},
     "output_type": "execute_result"
    }
   ],
   "source": [
    "# Now we switch our focus to classification. \n",
    "# In all cases below the targets will be either 0 or 1.\n",
    "# Also predictions will be either 0 or 1.\n",
    "\n",
    "# Let's generate some targets\n",
    "\n",
    "def gen_targets(num_ones, num_zeros):\n",
    "    return np.array(([1] * num_ones) + ([0]*num_zeros))\n",
    "\n",
    "targets = gen_targets(5, 45)\n",
    "targets"
   ]
  },
  {
   "cell_type": "code",
   "execution_count": 12,
   "id": "29d85ce3",
   "metadata": {},
   "outputs": [
    {
     "data": {
      "text/plain": [
       "0.6666666666666666"
      ]
     },
     "execution_count": 12,
     "metadata": {},
     "output_type": "execute_result"
    }
   ],
   "source": [
    "# Let's talk about accuracy. It is quite simple measures.\n",
    "# Just how many times your model is right.\n",
    "\n",
    "def accuracy(predictions, targets):\n",
    "    return (predictions == targets).mean()\n",
    "\n",
    "accuracy(np.array([1,0,1]), np.array([1,0,0]))"
   ]
  },
  {
   "cell_type": "markdown",
   "id": "6dd7f698",
   "metadata": {},
   "source": [
    "#### Task 3"
   ]
  },
  {
   "cell_type": "code",
   "execution_count": 13,
   "id": "cb3baa89",
   "metadata": {},
   "outputs": [
    {
     "data": {
      "text/plain": [
       "0.52"
      ]
     },
     "execution_count": 13,
     "metadata": {},
     "output_type": "execute_result"
    }
   ],
   "source": [
    "# Task 3:\n",
    "# Design a predictor, which gets 90% accuracy on targets created two cells above\n",
    "# And yes, this predictor should not take any input.\n",
    "\n",
    "def predictor():\n",
    "    # Make this better\n",
    "    return np.random.uniform(0, 1) < 0.5\n",
    "\n",
    "accuracy(np.array([predictor() for _ in targets]), targets)"
   ]
  },
  {
   "cell_type": "markdown",
   "id": "0652f0e9",
   "metadata": {},
   "source": [
    "### More metrics for classification"
   ]
  },
  {
   "cell_type": "code",
   "execution_count": 14,
   "id": "a67113b8",
   "metadata": {},
   "outputs": [
    {
     "data": {
      "text/plain": [
       "(0.5,\n",
       " 0.6666666666666666,\n",
       " 0.6,\n",
       " array([[3, 1],\n",
       "        [2, 2]]))"
      ]
     },
     "execution_count": 14,
     "metadata": {},
     "output_type": "execute_result"
    }
   ],
   "source": [
    "# Here are couple more metrics, which are common for binary classification, \n",
    "# You can also look there definitions on wikipedia\n",
    "\n",
    "def precision(predictions, targets):\n",
    "    # When we predict 1, how often are we correct?\n",
    "    predicted_1 = (predictions == 1).sum()\n",
    "    predicted_1_and_was_correct = ((predictions == 1) & (targets == 1)).sum()\n",
    "\n",
    "    return predicted_1_and_was_correct / predicted_1\n",
    "\n",
    "# Also called sensitivity\n",
    "def recall(predictions, targets):\n",
    "    # When we should have predicted 1, how often are we correct?\n",
    "    target_1 = (targets == 1).sum()\n",
    "    target_1_and_was_correct = ((predictions == 1) & (targets == 1)).sum()\n",
    "\n",
    "    return target_1_and_was_correct / target_1\n",
    "\n",
    "def specificity(predictions, targets):\n",
    "    # When we should have predicted 0, how often are we correct?\n",
    "    target_0 = (targets == 0).sum()\n",
    "    target_0_and_was_correct = ((predictions == 0) & (targets == 0)).sum()\n",
    "\n",
    "    return target_0_and_was_correct / target_0\n",
    "\n",
    "def confusion_matrix(predictions, targets):\n",
    "    # Calculates counts for all combinations of predictions and targets\n",
    "    \n",
    "    return np.array([\n",
    "        [((targets == 0) & (predictions == 0)).sum(), ((targets == 0) & (predictions == 1)).sum()],\n",
    "        [((targets == 1) & (predictions == 0)).sum(), ((targets == 1) & (predictions == 1)).sum()]\n",
    "    ])\n",
    "\n",
    "targets =     np.array([1,1,1,0,0,0,0,0])\n",
    "predictions = np.array([1,0,1,0,0,1,1,0])\n",
    "\n",
    "precision(predictions, targets), recall(predictions, targets), specificity(predictions, targets), confusion_matrix(targets, predictions)"
   ]
  },
  {
   "cell_type": "markdown",
   "id": "50525ebb",
   "metadata": {},
   "source": [
    "#### Task 4"
   ]
  },
  {
   "cell_type": "code",
   "execution_count": 15,
   "id": "5ba2f491",
   "metadata": {},
   "outputs": [],
   "source": [
    "# Task 4\n",
    "# For recall and specificity create a simple predictor (like for accuracy),\n",
    "# which gets score 1 for given metric on any targets."
   ]
  },
  {
   "cell_type": "markdown",
   "id": "11bed9c9",
   "metadata": {},
   "source": [
    "### Is predictor useful?"
   ]
  },
  {
   "cell_type": "code",
   "execution_count": 16,
   "id": "27f855e6",
   "metadata": {},
   "outputs": [
    {
     "data": {
      "text/plain": [
       "(array([1, 1, 1, 1, 1, 0, 0, 0, 0, 0, 0, 0, 0, 0, 0, 0, 0, 0, 0, 0, 0, 0,\n",
       "        0, 0, 0, 0, 0, 0, 0, 0, 0, 0, 0, 0, 0, 0, 0, 0, 0, 0, 0, 0, 0, 0,\n",
       "        0, 0, 0, 0, 0, 0]),\n",
       " array([1, 1, 1, 1, 1, 1, 1, 1, 1, 1, 1, 1, 1, 1, 0, 0, 0, 0, 0, 0, 0, 0,\n",
       "        0, 0, 0, 0, 0, 0, 0, 0, 0, 0, 0, 0, 0, 0, 0, 0, 0, 0, 0, 0, 0, 0,\n",
       "        0, 0, 0, 0, 0, 0]))"
      ]
     },
     "execution_count": 16,
     "metadata": {},
     "output_type": "execute_result"
    }
   ],
   "source": [
    "# Let's generate some new data\n",
    "\n",
    "def gen_data(num_ones, num_zeros):\n",
    "    targets = gen_targets(num_ones, num_zeros)\n",
    "    num_mistakes = int(num_zeros / 5)\n",
    "    predictions = np.array(([1] * num_ones) + ([1] * num_mistakes) + ([0] * (num_zeros - num_mistakes)))\n",
    "    return targets, predictions\n",
    "\n",
    "targets, predictions = gen_data(5, 45)\n",
    "targets, predictions"
   ]
  },
  {
   "cell_type": "code",
   "execution_count": 17,
   "id": "44b8df68",
   "metadata": {},
   "outputs": [
    {
     "data": {
      "text/plain": [
       "0.82"
      ]
     },
     "execution_count": 17,
     "metadata": {},
     "output_type": "execute_result"
    }
   ],
   "source": [
    "# Well our prediction have worse accuracy than trivial predictor from task 3 (that one should get 90%)\n",
    "\n",
    "accuracy(predictions, targets)"
   ]
  },
  {
   "cell_type": "markdown",
   "id": "5c4c9ae3",
   "metadata": {},
   "source": [
    "#### Task 5"
   ]
  },
  {
   "cell_type": "code",
   "execution_count": 18,
   "id": "01cff3f4",
   "metadata": {},
   "outputs": [],
   "source": [
    "# Task 5\n",
    "# Is our predictons from above really useless? Provide justification for your answer (hint: confusion matrix might help)\n",
    "# Argue with metrics, not with the code of the gen_data"
   ]
  },
  {
   "cell_type": "markdown",
   "id": "ed44c811",
   "metadata": {},
   "source": [
    "### Metric sensitivity to prevalence"
   ]
  },
  {
   "cell_type": "code",
   "execution_count": 19,
   "id": "28f6e136",
   "metadata": {},
   "outputs": [
    {
     "name": "stdout",
     "output_type": "stream",
     "text": [
      "Accuracy 0.81 0.85\n",
      "Precision 0.20833333333333334 0.625\n",
      "Recall 1.0 1.0\n",
      "Specificity 0.8 0.8\n"
     ]
    }
   ],
   "source": [
    "# This is data sample taken in general population\n",
    "targets, predictions = gen_data(5, 95)\n",
    "\n",
    "# This is data sample taken in hospital\n",
    "targets2, predictions2 = gen_data(5, 15)\n",
    "\n",
    "# Note that some metrics are sensitive to prevalence (% of positive target) in data\n",
    "\n",
    "print(\"Accuracy\", accuracy(predictions, targets), accuracy(predictions2, targets2))\n",
    "print(\"Precision\", precision(predictions, targets), precision(predictions2, targets2))\n",
    "print(\"Recall\", recall(predictions, targets), recall(predictions2, targets2))\n",
    "print(\"Specificity\", specificity(predictions, targets), specificity(predictions2, targets2))"
   ]
  },
  {
   "cell_type": "markdown",
   "id": "55f57c22",
   "metadata": {},
   "source": [
    "## ROC AUC"
   ]
  },
  {
   "cell_type": "code",
   "execution_count": 20,
   "id": "6769a40d",
   "metadata": {},
   "outputs": [],
   "source": [
    "# Now we still consider binary target values, but our \n",
    "# prediction is a probability of output being 1 (as in logistic regression)\n",
    "\n",
    "# Receiver operating characterics (https://en.wikipedia.org/wiki/Receiver_operating_characteristic)\n",
    "# is a metric for classification, which\n",
    "# sums quality of prediction into one number.\n",
    "# It needs predictions of probability that output is one as an input and than plots\n",
    "# FPR (1 - specificity) and TPR (recall) for each treshold."
   ]
  },
  {
   "cell_type": "code",
   "execution_count": 21,
   "id": "59ca8464",
   "metadata": {},
   "outputs": [
    {
     "name": "stdout",
     "output_type": "stream",
     "text": [
      "[1 1 1 1 1 0 0 0 0 0 0 0 0 0 0 0 0 0 0 0 0 0 0 0 0 0 0 0 0 0 0 0 0 0 0 0 0\n",
      " 0 0 0 0 0 0 0 0 0 0 0 0 0] [0.84965997 0.66813132 0.58640288 0.9551127  0.79643807 0.48917997\n",
      " 0.30591044 0.47838468 0.68392706 0.0413843  0.21792753 0.10683744\n",
      " 0.1986721  0.68981383 0.01859328 0.12364887 0.49684633 0.2542035\n",
      " 0.64668961 0.32923015 0.08523268 0.34144264 0.38965335 0.1230727\n",
      " 0.18064307 0.56823831 0.34801019 0.19741913 0.33243617 0.14528073\n",
      " 0.12183882 0.34460198 0.00530175 0.21494653 0.34777788 0.22933797\n",
      " 0.49306051 0.23477608 0.08156916 0.18882915 0.61231146 0.01238262\n",
      " 0.27312589 0.57008076 0.3124522  0.26186157 0.38252302 0.1441286\n",
      " 0.41427057 0.09680728]\n"
     ]
    },
    {
     "data": {
      "text/plain": [
       "<matplotlib.legend.Legend at 0x7f58ee77fd30>"
      ]
     },
     "execution_count": 21,
     "metadata": {},
     "output_type": "execute_result"
    },
    {
     "data": {
      "image/png": "[encoded data removed]",
      "text/plain": [
       "<Figure size 432x288 with 1 Axes>"
      ]
     },
     "metadata": {
      "needs_background": "light"
     },
     "output_type": "display_data"
    }
   ],
   "source": [
    "def gen_data_roc(num_ones, num_zeros):\n",
    "    targets = gen_targets(num_ones, num_zeros)\n",
    "    predictions = np.concatenate([np.random.uniform(0.5, 1, size=num_ones), np.random.uniform(0, 0.7, size=num_zeros)])\n",
    "    return targets, predictions\n",
    "\n",
    "def gen_data_perfect(num_ones, num_zeros):\n",
    "    targets = gen_targets(num_ones, num_zeros)\n",
    "    predictions = np.concatenate([np.random.uniform(1, 1, size=num_ones), np.random.uniform(0, 0, size=num_zeros)])\n",
    "    return targets, predictions\n",
    "\n",
    "def gen_data_random(num_ones, num_zeros):\n",
    "    targets = gen_targets(num_ones, num_zeros)\n",
    "    predictions = np.concatenate([np.random.uniform(0, 1, size=num_ones), np.random.uniform(0, 1, size=num_zeros)])\n",
    "    return targets, predictions\n",
    "\n",
    "targets, predictions = gen_data_roc(50, 450)\n",
    "targets_perf, predictions_perf = gen_data_perfect(50, 450)\n",
    "targets_rand, predictions_rand = gen_data_random(50, 450)\n",
    "print(targets[::10], predictions[::10])\n",
    "\n",
    "from sklearn import metrics\n",
    "\n",
    "fpr, tpr, thresholds = metrics.roc_curve(targets, predictions)\n",
    "plt.plot(fpr, tpr, label=\"generic\")\n",
    "\n",
    "fpr, tpr, thresholds = metrics.roc_curve(targets_perf, predictions_perf)\n",
    "plt.plot(fpr, tpr, label=\"perfect\")\n",
    "\n",
    "fpr, tpr, thresholds = metrics.roc_curve(targets_rand, predictions_rand)\n",
    "plt.plot(fpr, tpr, label=\"random\")\n",
    "\n",
    "plt.legend()"
   ]
  },
  {
   "cell_type": "code",
   "execution_count": 22,
   "id": "5acf9973",
   "metadata": {},
   "outputs": [
    {
     "name": "stdout",
     "output_type": "stream",
     "text": [
      "generic 0.9331555555555556\n",
      "perfect 1.0\n",
      "random 0.5812\n"
     ]
    }
   ],
   "source": [
    "# Notice that better predictor are more leaning towards left and up.\n",
    "# We can just take area under curve\n",
    "\n",
    "print(\"generic\", metrics.roc_auc_score(targets, predictions))\n",
    "print(\"perfect\", metrics.roc_auc_score(targets_perf, predictions_perf))\n",
    "print(\"random\", metrics.roc_auc_score(targets_rand, predictions_rand))"
   ]
  },
  {
   "cell_type": "markdown",
   "id": "7c927338",
   "metadata": {},
   "source": [
    "#### Task 6"
   ]
  },
  {
   "cell_type": "code",
   "execution_count": 23,
   "id": "c82cd3fc",
   "metadata": {},
   "outputs": [],
   "source": [
    "# Task 6:\n",
    "# Is RoC sensitive to prevalence (number of ones in target)?\n",
    "# Provide justification."
   ]
  },
  {
   "cell_type": "markdown",
   "id": "46e2a976",
   "metadata": {},
   "source": [
    "#### Task 7:"
   ]
  },
  {
   "cell_type": "code",
   "execution_count": 24,
   "id": "ef2780aa",
   "metadata": {},
   "outputs": [],
   "source": [
    "# Task 7:\n",
    "# You are running fraud detection algorithm for bank transactions.\n",
    "# Algorithm takes a transaction and outputs probability that it is a fraud.\n",
    "\n",
    "# Bank regulation of our country say that you should catch 95% of fraudalent transactions.\n",
    "# Thus, you will select a threshold which catches 95% of frauds, since you have to follow\n",
    "# the regulation. (i.e. your prediction becomes \"probability > threshold\")\n",
    "\n",
    "# Regulation does not care about false positives, that's problem of your customer support.\n",
    "# But if they get too many cases, they will get pisses and complain to your managers. \n",
    "# What metric will you choose to evaluate your fraud detection algorithm? \n",
    "# Is roc_auc_score a good metric? If not, give a better metric."
   ]
  }
 ],
 "metadata": {
  "kernelspec": {
   "display_name": "Python 3",
   "language": "python",
   "name": "python3"
  },
  "language_info": {
   "codemirror_mode": {
    "name": "ipython",
    "version": 3
   },
   "file_extension": ".py",
   "mimetype": "text/x-python",
   "name": "python",
   "nbconvert_exporter": "python",
   "pygments_lexer": "ipython3",
   "version": "3.8.2"
  }
 },
 "nbformat": 4,
 "nbformat_minor": 5
}

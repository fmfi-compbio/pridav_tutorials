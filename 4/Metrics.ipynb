{
 "cells": [
  {
   "cell_type": "code",
   "execution_count": 6,
   "id": "44e431bd-e3ef-41c2-a328-c2ab5a39f917",
   "metadata": {},
   "outputs": [],
   "source": [
    "import matplotlib.pyplot as plt\n",
    "import numpy as np"
   ]
  },
  {
   "cell_type": "code",
   "execution_count": 2,
   "id": "96c9f6aa-36ac-4d43-86fe-63f8d3349850",
   "metadata": {},
   "outputs": [],
   "source": [
    "# Read very carefully what you should submit in each task"
   ]
  },
  {
   "cell_type": "code",
   "execution_count": 3,
   "id": "44b8a658-d92c-4127-aba0-fe44cfe07b99",
   "metadata": {},
   "outputs": [],
   "source": [
    "# This tutorial will be about metrics in context of machine learning.\n",
    "# Metric takes predictions and ground truth (called targets) and output (usually) one number.\n",
    "# Note that metric does not have to differentiable (example is accuracy)\n",
    "# Also metric should be understandable without having PhD in math."
   ]
  },
  {
   "cell_type": "markdown",
   "id": "0871cc23-8c0f-47d0-8ff6-6a693ce3a14c",
   "metadata": {},
   "source": [
    "## Absolute vs squared error"
   ]
  },
  {
   "cell_type": "code",
   "execution_count": 9,
   "id": "380031d8-b5a6-4d79-b2c4-2f9f274cb96b",
   "metadata": {},
   "outputs": [
    {
     "data": {
      "text/plain": [
       "(2.5, 1.5)"
      ]
     },
     "execution_count": 9,
     "metadata": {},
     "output_type": "execute_result"
    }
   ],
   "source": [
    "# Consider following two metrics, with example calculation below\n",
    "\n",
    "def mean_squared_error(predictions, targets):\n",
    "    return np.square(predictions - targets).mean()\n",
    "\n",
    "def mean_absolute_error(predictions, targets):\n",
    "    return np.abs(predictions - targets).mean()\n",
    "\n",
    "predictions = np.array([0, 5])\n",
    "targets = np.array([1, 7])\n",
    "mean_squared_error(predictions, targets), mean_absolute_error(predictions, targets)"
   ]
  },
  {
   "cell_type": "code",
   "execution_count": 18,
   "id": "6058b029-012d-4036-ba07-dd8d692a6381",
   "metadata": {},
   "outputs": [
    {
     "name": "stdout",
     "output_type": "stream",
     "text": [
      "Target vs predictions1\n"
     ]
    },
    {
     "data": {
      "image/png": "[encoded data removed]",
      "text/plain": [
       "<Figure size 640x480 with 1 Axes>"
      ]
     },
     "metadata": {},
     "output_type": "display_data"
    },
    {
     "name": "stdout",
     "output_type": "stream",
     "text": [
      "Target vs predictions2\n"
     ]
    },
    {
     "data": {
      "image/png": "[encoded data removed]",
      "text/plain": [
       "<Figure size 640x480 with 1 Axes>"
      ]
     },
     "metadata": {},
     "output_type": "display_data"
    }
   ],
   "source": [
    "# Which one is better? That depends on the problem. \n",
    "# Consider following set of predictions and targets.\n",
    "\n",
    "targets =      np.array([0,1,2,3,4])\n",
    "predictions1 = np.array([0,1,10,3,4])\n",
    "predictions2 = np.array([4,3,2,1,0])\n",
    "\n",
    "print(\"Target vs predictions1\")\n",
    "plt.scatter(targets, predictions1)\n",
    "plt.ylim(-1, 11)\n",
    "plt.show()\n",
    "\n",
    "print(\"Target vs predictions2\")\n",
    "plt.scatter(targets, predictions2)\n",
    "plt.ylim(-1, 11)\n",
    "plt.show()"
   ]
  },
  {
   "cell_type": "code",
   "execution_count": 20,
   "id": "3c3db9e7-763f-4780-9283-37981ddb1416",
   "metadata": {},
   "outputs": [
    {
     "name": "stdout",
     "output_type": "stream",
     "text": [
      "Mean squared error\n",
      "12.8 8.0\n",
      "Mean absolute error\n",
      "1.6 2.4\n"
     ]
    }
   ],
   "source": [
    "# It seems that first set of prediction is either completelly correct, or off by a lot.\n",
    "# Maybe it is some outlier in data or wrong data point.\n",
    "# Second set of prediction has completelly opposite trend and does not look right.\n",
    "# Let's look at metrics\n",
    "\n",
    "print(\"Mean squared error\")\n",
    "print(mean_squared_error(predictions1, targets), mean_squared_error(predictions2, targets))\n",
    "print(\"Mean absolute error\")\n",
    "print(mean_absolute_error(predictions1, targets), mean_absolute_error(predictions2, targets))"
   ]
  },
  {
   "cell_type": "code",
   "execution_count": 21,
   "id": "a9fd20a1-eecf-4192-aa26-4ef87418372a",
   "metadata": {},
   "outputs": [],
   "source": [
    "# Now we see, that metrics rank our predictions differently. Squared error like the second ones better.\n",
    "# Absolute error prefers first one.\n",
    "# This is not completelly good argument that one metric is better than second one, but demonstrates, that\n",
    "# squared error is sensitive to outliers.\n",
    "\n",
    "# Also it is better argument than just looking at the values. Any metric can be scaled by a constant, is counted in different units\n",
    "# so comparing numerical output of two metrics in like comparing volts with meters and basically meaningless.\n",
    "# But we can still compare ability of metric to rank data in meaninful way."
   ]
  },
  {
   "cell_type": "markdown",
   "id": "5132901b-d6b2-4890-ab38-1bd819312679",
   "metadata": {},
   "source": [
    "#### Task 1"
   ]
  },
  {
   "cell_type": "code",
   "execution_count": 22,
   "id": "e44ddd09-1bcc-4978-aa77-d39433521dda",
   "metadata": {},
   "outputs": [],
   "source": [
    "# Task 1:\n",
    "# You are predicting prices of flats.\n",
    "# Your boss tells you, that no body cares about small errors, but big error are a problem.\n",
    "# You also manually checked everything and there are no outliers.\n",
    "\n",
    "# Which metric would you choose between square and absolute error?\n",
    "# Provide justification and also demonstrate reason for your choice by constructing some small dataset with multiple sets of predictions\n",
    "# and comparing outputs of metrics."
   ]
  },
  {
   "cell_type": "markdown",
   "id": "9d092d7f-3e4f-4ca0-97c4-9781b63f5878",
   "metadata": {},
   "source": [
    "## Custom metrics - task 2"
   ]
  },
  {
   "cell_type": "code",
   "execution_count": 23,
   "id": "5d0b4d31-3e75-4474-97b0-6a71d286426e",
   "metadata": {},
   "outputs": [],
   "source": [
    "# Keep in mind that you can also make a metric tailored to your usecase, we will do this in the task below."
   ]
  },
  {
   "cell_type": "code",
   "execution_count": 25,
   "id": "477a5d38-f897-4353-a5a9-dd0daa08c6a0",
   "metadata": {},
   "outputs": [],
   "source": [
    "# Task 2:\n",
    "# You are predicting prices of flats.\n",
    "# Your boss made a new contract, which has following terms:\n",
    "# - If your prediction has error less (or equal) than 5%, than your company will earn 1000$\n",
    "# - If your prediction has error more than 5%, your company pays 10000$ fine.\n",
    "\n",
    "# Construct a custom metric for comparing models in this setting.\n",
    "# Provide justification and also demonstrate reason for your choice by constructing some small dataset with multiple sets of predictions\n",
    "# and comparing outputs of metrics. Also demonstrate that your metric is better than selected metric from task 1."
   ]
  },
  {
   "cell_type": "markdown",
   "id": "6e40a96a-cfbe-44c5-805e-0792bb94a136",
   "metadata": {},
   "source": [
    "## Metrics for binary classification"
   ]
  },
  {
   "cell_type": "code",
   "execution_count": 33,
   "id": "7266d9bb-a936-4d25-8a15-85421c4c6c78",
   "metadata": {},
   "outputs": [
    {
     "data": {
      "text/plain": [
       "array([1, 1, 1, 1, 1, 0, 0, 0, 0, 0, 0, 0, 0, 0, 0, 0, 0, 0, 0, 0, 0, 0,\n",
       "       0, 0, 0, 0, 0, 0, 0, 0, 0, 0, 0, 0, 0, 0, 0, 0, 0, 0, 0, 0, 0, 0,\n",
       "       0, 0, 0, 0, 0, 0])"
      ]
     },
     "execution_count": 33,
     "metadata": {},
     "output_type": "execute_result"
    }
   ],
   "source": [
    "# Let's generate some targets\n",
    "\n",
    "def gen_targets(num_ones, num_zeros):\n",
    "    return np.array(([1] * num_ones) + ([0]*num_zeros))\n",
    "\n",
    "targets = gen_targets(5, 45)\n",
    "targets"
   ]
  },
  {
   "cell_type": "code",
   "execution_count": 29,
   "id": "fa30a01b-ad26-4d6b-b90f-78dd420f9316",
   "metadata": {},
   "outputs": [
    {
     "data": {
      "text/plain": [
       "0.6666666666666666"
      ]
     },
     "execution_count": 29,
     "metadata": {},
     "output_type": "execute_result"
    }
   ],
   "source": [
    "# Let's talk about accuracy. It is quite simple measures. Just how many times your model is right.\n",
    "\n",
    "def accuracy(predictions, targets):\n",
    "    return (predictions == targets).mean()\n",
    "\n",
    "accuracy(np.array([1,0,1]), np.array([1,0,0]))"
   ]
  },
  {
   "cell_type": "markdown",
   "id": "a9e3674b-9a42-4b16-a58f-953734c20528",
   "metadata": {},
   "source": [
    "#### Task 3"
   ]
  },
  {
   "cell_type": "code",
   "execution_count": 34,
   "id": "01f0fc7c-3eb4-4056-9100-ebbf795372dc",
   "metadata": {},
   "outputs": [
    {
     "data": {
      "text/plain": [
       "0.5"
      ]
     },
     "execution_count": 34,
     "metadata": {},
     "output_type": "execute_result"
    }
   ],
   "source": [
    "# Task 3:\n",
    "# Design a prediction, which gets 90% accuracy on targets two cells above\n",
    "\n",
    "def predictor():\n",
    "    # Make this better\n",
    "    return np.random.uniform(0, 1) < 0.5\n",
    "\n",
    "accuracy(np.array([predictor() for _ in targets]), targets)"
   ]
  },
  {
   "cell_type": "markdown",
   "id": "5d6066a9-606a-4717-bf35-d3f91a2a1ef5",
   "metadata": {},
   "source": [
    "### More metrics for classification"
   ]
  },
  {
   "cell_type": "code",
   "execution_count": 42,
   "id": "7316e527-7b00-40d8-ab4e-040708473592",
   "metadata": {},
   "outputs": [
    {
     "data": {
      "text/plain": [
       "(0.5, 0.6666666666666666, 0.6)"
      ]
     },
     "execution_count": 42,
     "metadata": {},
     "output_type": "execute_result"
    }
   ],
   "source": [
    "# Here are couple more metrics, which are common for binary classification, you can also look there definitions on wiki\n",
    "\n",
    "def precision(predictions, targets):\n",
    "    predicted_1 = (predictions == 1).sum()\n",
    "    predicted_1_and_was_correct = ((predictions == 1) & (targets == 1)).sum()\n",
    "\n",
    "    return predicted_1_and_was_correct / predicted_1\n",
    "\n",
    "# Also called sensitivity\n",
    "def recall(predictions, targets):\n",
    "    target_1 = (targets == 1).sum()\n",
    "    target_1_and_was_correct = ((predictions == 1) & (targets == 1)).sum()\n",
    "\n",
    "    return target_1_and_was_correct / target_1\n",
    "\n",
    "def specificity(predictions, targets):\n",
    "    target_0 = (targets == 0).sum()\n",
    "    target_0_and_was_correct = ((predictions == 0) & (targets == 0)).sum()\n",
    "\n",
    "    return target_0_and_was_correct / target_0\n",
    "\n",
    "targets = np.array([1,1,1,0,0,0,0,0])\n",
    "predictions = np.array([1,0,1,0,0,1,1,0])\n",
    "\n",
    "precision(predictions, targets), recall(predictions, targets), specificity(predictions, targets)"
   ]
  },
  {
   "cell_type": "markdown",
   "id": "fb444ced-ed8a-461b-8ee1-dc2fa47a1243",
   "metadata": {},
   "source": [
    "#### Task 4"
   ]
  },
  {
   "cell_type": "code",
   "execution_count": 45,
   "id": "d80ee014-0e9e-4daf-9e8a-586786578c2a",
   "metadata": {},
   "outputs": [],
   "source": [
    "# Task 4\n",
    "# For recall and specificity create a simple predictor (like for accuracy), which gets score 1 for given metric."
   ]
  },
  {
   "cell_type": "markdown",
   "id": "d0af3b59-2156-4fe5-adcf-e4110b422b9c",
   "metadata": {},
   "source": [
    "### Is predictor useful"
   ]
  },
  {
   "cell_type": "code",
   "execution_count": 51,
   "id": "74998150-19cb-4d74-85b2-3b9057c4fc8a",
   "metadata": {},
   "outputs": [
    {
     "data": {
      "text/plain": [
       "(array([1, 1, 1, 1, 1, 0, 0, 0, 0, 0, 0, 0, 0, 0, 0, 0, 0, 0, 0, 0, 0, 0,\n",
       "        0, 0, 0, 0, 0, 0, 0, 0, 0, 0, 0, 0, 0, 0, 0, 0, 0, 0, 0, 0, 0, 0,\n",
       "        0, 0, 0, 0, 0, 0]),\n",
       " array([1, 1, 1, 1, 1, 1, 1, 1, 1, 1, 1, 1, 1, 1, 0, 0, 0, 0, 0, 0, 0, 0,\n",
       "        0, 0, 0, 0, 0, 0, 0, 0, 0, 0, 0, 0, 0, 0, 0, 0, 0, 0, 0, 0, 0, 0,\n",
       "        0, 0, 0, 0, 0, 0]))"
      ]
     },
     "execution_count": 51,
     "metadata": {},
     "output_type": "execute_result"
    }
   ],
   "source": [
    "# Let's generate some data\n",
    "\n",
    "def gen_data(num_ones, num_zeros):\n",
    "    targets = gen_targets(num_ones, num_zeros)\n",
    "    num_mistakes = int(num_zeros / 5)\n",
    "    predictions = np.array(([1] * num_ones) + ([1] * num_mistakes) + ([0] * (num_zeros - num_mistakes)))\n",
    "    return targets, predictions\n",
    "\n",
    "targets, predictions = gen_data(5, 45)\n",
    "targets, predictions"
   ]
  },
  {
   "cell_type": "code",
   "execution_count": 52,
   "id": "debd084d-e01a-4a37-9c9f-3498f82dcbf9",
   "metadata": {},
   "outputs": [
    {
     "data": {
      "text/plain": [
       "0.82"
      ]
     },
     "execution_count": 52,
     "metadata": {},
     "output_type": "execute_result"
    }
   ],
   "source": [
    "# Well our prediction have worse accuracy than trivial predictor from task 3.\n",
    "\n",
    "accuracy(predictions, targets)"
   ]
  },
  {
   "cell_type": "markdown",
   "id": "f4075957-b377-4d1b-8157-93ced2b3e435",
   "metadata": {},
   "source": [
    "#### Task 5"
   ]
  },
  {
   "cell_type": "code",
   "execution_count": 54,
   "id": "e40b8718-b03b-4e43-a4d3-4dc97385186a",
   "metadata": {},
   "outputs": [],
   "source": [
    "# Task 5\n",
    "# Is our predictor really useless? Provide justification for your answer."
   ]
  },
  {
   "cell_type": "markdown",
   "id": "e462e8c8-8126-4a0e-b400-5f8c39a22ccc",
   "metadata": {},
   "source": [
    "### Prevalence sensitivity"
   ]
  },
  {
   "cell_type": "code",
   "execution_count": 56,
   "id": "309d66cf-5482-47dc-aa5d-96373f8b6581",
   "metadata": {},
   "outputs": [
    {
     "name": "stdout",
     "output_type": "stream",
     "text": [
      "Accuracy 0.81 0.85\n",
      "Precision 0.20833333333333334 0.625\n",
      "Recall 1.0 1.0\n",
      "Specificity 0.8 0.8\n"
     ]
    }
   ],
   "source": [
    "# This is data sample taken in general population\n",
    "targets, predictions = gen_data(5, 95)\n",
    "\n",
    "# This is data sample taken in hospital\n",
    "targets2, predictions2 = gen_data(5, 15)\n",
    "\n",
    "# Note that some metrics are sensitive to prevalence (% of 1 in target) in data\n",
    "\n",
    "print(\"Accuracy\", accuracy(predictions, targets), accuracy(predictions2, targets2))\n",
    "print(\"Precision\", precision(predictions, targets), precision(predictions2, targets2))\n",
    "print(\"Recall\", recall(predictions, targets), recall(predictions2, targets2))\n",
    "print(\"Specificity\", specificity(predictions, targets), specificity(predictions2, targets2))"
   ]
  },
  {
   "cell_type": "markdown",
   "id": "83724f14-8453-4ddc-83d3-a716f70b7844",
   "metadata": {},
   "source": [
    "## ROC AUC"
   ]
  },
  {
   "cell_type": "code",
   "execution_count": 57,
   "id": "6d514d04-8b0a-4460-a6db-7475e5fcf958",
   "metadata": {},
   "outputs": [],
   "source": [
    "# Receiver operating characterics (https://en.wikipedia.org/wiki/Receiver_operating_characteristic) is a metric for classification, which\n",
    "# sums quality of prediction into one number.\n",
    "# It needs predictions of probability that output is one as an input and than plots\n",
    "# FPR (1 - specificity) and TPR (recall) for each treshold."
   ]
  },
  {
   "cell_type": "code",
   "execution_count": 66,
   "id": "611b4112-713c-4817-8e82-03ad932beafd",
   "metadata": {},
   "outputs": [
    {
     "name": "stdout",
     "output_type": "stream",
     "text": [
      "[1 1 1 1 1 0 0 0 0 0 0 0 0 0 0 0 0 0 0 0 0 0 0 0 0 0 0 0 0 0 0 0 0 0 0 0 0\n",
      " 0 0 0 0 0 0 0 0 0 0 0 0 0] [0.7717343  0.67526983 0.89084161 0.73517159 0.59593824 0.66107964\n",
      " 0.1331491  0.25636294 0.54911731 0.45865597 0.1891955  0.42766094\n",
      " 0.26095833 0.67422178 0.08779158 0.40570954 0.38426681 0.27243572\n",
      " 0.58688509 0.23238416 0.0330717  0.21811657 0.65229244 0.49834376\n",
      " 0.14000953 0.54156102 0.54777857 0.00917287 0.41478707 0.54188882\n",
      " 0.51118076 0.16227702 0.15642615 0.41685633 0.06882331 0.60009523\n",
      " 0.58757548 0.3531048  0.53860411 0.11003125 0.45766128 0.24956807\n",
      " 0.56823525 0.30964383 0.41613608 0.16075831 0.03498765 0.26510758\n",
      " 0.34998718 0.50742934]\n"
     ]
    },
    {
     "data": {
      "text/plain": [
       "<matplotlib.legend.Legend at 0x7fdbadc569d0>"
      ]
     },
     "execution_count": 66,
     "metadata": {},
     "output_type": "execute_result"
    },
    {
     "data": {
      "image/png": "[encoded data removed]",
      "text/plain": [
       "<Figure size 640x480 with 1 Axes>"
      ]
     },
     "metadata": {},
     "output_type": "display_data"
    }
   ],
   "source": [
    "def gen_data_roc(num_ones, num_zeros):\n",
    "    targets = gen_targets(num_ones, num_zeros)\n",
    "    predictions = np.concatenate([np.random.uniform(0.5, 1, size=num_ones), np.random.uniform(0, 0.7, size=num_zeros)])\n",
    "    return targets, predictions\n",
    "\n",
    "def gen_data_perfect(num_ones, num_zeros):\n",
    "    targets = gen_targets(num_ones, num_zeros)\n",
    "    predictions = np.concatenate([np.random.uniform(1, 1, size=num_ones), np.random.uniform(0, 0, size=num_zeros)])\n",
    "    return targets, predictions\n",
    "\n",
    "def gen_data_random(num_ones, num_zeros):\n",
    "    targets = gen_targets(num_ones, num_zeros)\n",
    "    predictions = np.concatenate([np.random.uniform(0, 1, size=num_ones), np.random.uniform(0, 1, size=num_zeros)])\n",
    "    return targets, predictions\n",
    "\n",
    "targets, predictions = gen_data_roc(50, 450)\n",
    "targets_perf, predictions_perf = gen_data_perfect(50, 450)\n",
    "targets_rand, predictions_rand = gen_data_random(50, 450)\n",
    "print(targets[::10], predictions[::10])\n",
    "\n",
    "from sklearn import metrics\n",
    "\n",
    "fpr, tpr, thresholds = metrics.roc_curve(targets, predictions)\n",
    "plt.plot(fpr, tpr, label=\"generic\")\n",
    "\n",
    "fpr, tpr, thresholds = metrics.roc_curve(targets_perf, predictions_perf)\n",
    "plt.plot(fpr, tpr, label=\"perfect\")\n",
    "\n",
    "fpr, tpr, thresholds = metrics.roc_curve(targets_rand, predictions_rand)\n",
    "plt.plot(fpr, tpr, label=\"random\")\n",
    "\n",
    "plt.legend()"
   ]
  },
  {
   "cell_type": "code",
   "execution_count": 68,
   "id": "caaa89fe-398a-420f-a578-271d7efb2efe",
   "metadata": {},
   "outputs": [
    {
     "name": "stdout",
     "output_type": "stream",
     "text": [
      "generic 0.9583111111111111\n",
      "perfect 1.0\n",
      "random 0.5077333333333334\n"
     ]
    }
   ],
   "source": [
    "# Notice that better predictor are more leaning towards left and up.\n",
    "# We can just take area under curve\n",
    "\n",
    "print(\"generic\", metrics.roc_auc_score(targets, predictions))\n",
    "print(\"perfect\", metrics.roc_auc_score(targets_perf, predictions_perf))\n",
    "print(\"random\", metrics.roc_auc_score(targets_rand, predictions_rand))"
   ]
  },
  {
   "cell_type": "markdown",
   "id": "57b1ff6c-7837-4049-83d6-c8d8f82d9ee9",
   "metadata": {},
   "source": [
    "#### Task 6"
   ]
  },
  {
   "cell_type": "code",
   "execution_count": 70,
   "id": "c6657028-32f8-44a9-86a2-35823b43a41b",
   "metadata": {},
   "outputs": [],
   "source": [
    "# Task 6:\n",
    "# Is RoC sensitive to prevalence (number of ones in target)?\n",
    "# Provide justification."
   ]
  },
  {
   "cell_type": "markdown",
   "id": "a105d353-a019-48b0-bc49-4c6416c703a3",
   "metadata": {},
   "source": [
    "#### Task 7:"
   ]
  },
  {
   "cell_type": "code",
   "execution_count": null,
   "id": "4700e3c1-956b-47a8-b8e5-b5e26f3b8ef7",
   "metadata": {},
   "outputs": [],
   "source": [
    "# Task 7:\n",
    "# You are running fraud detection algorithm for bank transactions.\n",
    "# It outputs probability, that given transaction is fraud.\n",
    "# Bank regulation of our country say that you should catch 95% of fraudalent transactions.\n",
    "# They do not care about false positives, that's problem of your customer support.\n",
    "# What metric will you choose to evaluate your fraud detection algorithm? Is roc_auc_score a good metric? If not, give a better metric."
   ]
  }
 ],
 "metadata": {
  "kernelspec": {
   "display_name": "Python 3 (ipykernel)",
   "language": "python",
   "name": "python3"
  },
  "language_info": {
   "codemirror_mode": {
    "name": "ipython",
    "version": 3
   },
   "file_extension": ".py",
   "mimetype": "text/x-python",
   "name": "python",
   "nbconvert_exporter": "python",
   "pygments_lexer": "ipython3",
   "version": "3.11.5"
  }
 },
 "nbformat": 4,
 "nbformat_minor": 5
}

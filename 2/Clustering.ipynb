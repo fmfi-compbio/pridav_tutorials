{
 "cells": [
  {
   "cell_type": "code",
   "execution_count": 1,
   "metadata": {},
   "outputs": [],
   "source": [
    "# Write your comments to the tasks right into the notebook\n",
    "# Also it is recommended to check sklearn documentation, especially\n",
    "# https://scikit-learn.org/stable/modules/generated/sklearn.cluster.KMeans.html\n",
    "# https://scikit-learn.org/stable/modules/clustering.html\n",
    "# https://scikit-learn.org/stable/modules/generated/sklearn.metrics.cluster.pair_confusion_matrix.html#sklearn.metrics.cluster.pair_confusion_matrix\n",
    "# https://scikit-learn.org/stable/modules/generated/sklearn.metrics.fowlkes_mallows_score.html#sklearn.metrics.fowlkes_mallows_score"
   ]
  },
  {
   "cell_type": "code",
   "execution_count": 2,
   "metadata": {},
   "outputs": [],
   "source": [
    "from sklearn.datasets import fetch_openml\n",
    "from sklearn.cluster import KMeans\n",
    "from sklearn.metrics import confusion_matrix, fowlkes_mallows_score\n",
    "from sklearn.metrics.cluster import pair_confusion_matrix\n",
    "import numpy as np\n",
    "import matplotlib.pyplot as plt"
   ]
  },
  {
   "cell_type": "code",
   "execution_count": 3,
   "metadata": {},
   "outputs": [
    {
     "data": {
      "text/plain": [
       "((70000, 784), (70000,))"
      ]
     },
     "execution_count": 3,
     "metadata": {},
     "output_type": "execute_result"
    }
   ],
   "source": [
    "# We will fetch MNIST datasets (images of digits)\n",
    "\n",
    "X, y = fetch_openml(\n",
    "    \"mnist_784\", version=1, return_X_y=True, as_frame=False\n",
    ")\n",
    "\n",
    "X.shape, y.shape"
   ]
  },
  {
   "cell_type": "code",
   "execution_count": 4,
   "metadata": {},
   "outputs": [
    {
     "data": {
      "text/plain": [
       "array([5, 0, 4, 1, 9, 2, 1, 3, 1, 4], dtype=int32)"
      ]
     },
     "execution_count": 4,
     "metadata": {},
     "output_type": "execute_result"
    }
   ],
   "source": [
    "# We will only work with first 1000 images\n",
    "\n",
    "images = X[:1000]\n",
    "labels = y[:1000].astype(np.int32)\n",
    "\n",
    "labels[:10]"
   ]
  },
  {
   "cell_type": "code",
   "execution_count": 5,
   "metadata": {},
   "outputs": [
    {
     "data": {
      "text/plain": [
       "<matplotlib.image.AxesImage at 0x7f7787ba04c0>"
      ]
     },
     "execution_count": 5,
     "metadata": {},
     "output_type": "execute_result"
    },
    {
     "data": {
      "image/png": "[encoded data removed]",
      "text/plain": [
       "<Figure size 432x288 with 1 Axes>"
      ]
     },
     "metadata": {
      "needs_background": "light"
     },
     "output_type": "display_data"
    }
   ],
   "source": [
    "# This is the first image\n",
    "plt.imshow(images[0].reshape(28,28), cmap=\"gray\")"
   ]
  },
  {
   "cell_type": "code",
   "execution_count": 6,
   "metadata": {},
   "outputs": [
    {
     "data": {
      "text/plain": [
       "array([9, 5, 6, 7, 6], dtype=int32)"
      ]
     },
     "execution_count": 6,
     "metadata": {},
     "output_type": "execute_result"
    }
   ],
   "source": [
    "# Now we will try to find 10 clusters using K-means\n",
    "\n",
    "kmeans = KMeans(n_clusters=10, random_state=47)\n",
    "kmeans.fit(images)\n",
    "\n",
    "cluster_ids = kmeans.predict(images)\n",
    "\n",
    "cluster_ids[:5]"
   ]
  },
  {
   "cell_type": "code",
   "execution_count": 7,
   "metadata": {},
   "outputs": [
    {
     "data": {
      "text/plain": [
       "array([[34,  1,  4,  0,  0, 50,  3,  0,  5,  0],\n",
       "       [ 0, 52,  0,  0,  1,  0,  1, 62,  0,  0],\n",
       "       [ 0, 21,  2,  2,  4,  1,  4,  9, 50,  6],\n",
       "       [ 1, 12,  0,  1,  8,  0,  2,  0,  1, 68],\n",
       "       [ 0, 10,  2, 35,  0,  0, 55,  3,  0,  0],\n",
       "       [ 2, 38,  2,  1,  2,  1,  5,  0,  1, 40],\n",
       "       [ 2, 11, 71,  0,  0,  0,  8,  1,  1,  0],\n",
       "       [ 0, 14,  0, 67,  0,  0, 27,  8,  1,  0],\n",
       "       [ 0, 18,  0,  0, 56,  0,  4,  2,  0,  7],\n",
       "       [ 0,  9,  1, 47,  0,  1, 36,  4,  0,  2]])"
      ]
     },
     "execution_count": 7,
     "metadata": {},
     "output_type": "execute_result"
    }
   ],
   "source": [
    "# We will calculate confusion matrix (rows are original labels, columns are clusters)\n",
    "# Here, first cluster contains mostly zeros, but zeroes are also present in the 6th cluster\n",
    "# Second cluster is mix of almost everything.\n",
    "\n",
    "confusion_matrix(labels, cluster_ids)"
   ]
  },
  {
   "cell_type": "code",
   "execution_count": 8,
   "metadata": {},
   "outputs": [
    {
     "data": {
      "text/plain": [
       "array([[820936,  78166],\n",
       "       [ 57408,  42490]])"
      ]
     },
     "execution_count": 8,
     "metadata": {},
     "output_type": "execute_result"
    }
   ],
   "source": [
    "# We can also calculate pair confusion matrix.\n",
    "# That means that we count number of pairs which have same label and also belong to same cluster.\n",
    "# And also number of pairs, which have different labels, but are in same clusters, ...\n",
    "\n",
    "cmat = pair_confusion_matrix(labels, cluster_ids)\n",
    "cmat"
   ]
  },
  {
   "cell_type": "code",
   "execution_count": 9,
   "metadata": {},
   "outputs": [
    {
     "name": "stdout",
     "output_type": "stream",
     "text": [
      "FM score 0.387020413484907\n"
     ]
    }
   ],
   "source": [
    "# To get this into one number we will just use Fowlkles mallow score (read docs about what it is)\n",
    "# In the next tasks we will try to maximize this\n",
    "\n",
    "print(\"FM score\", fowlkes_mallows_score(labels, cluster_ids))"
   ]
  },
  {
   "cell_type": "code",
   "execution_count": 10,
   "metadata": {},
   "outputs": [],
   "source": [
    "# Task A:\n",
    "# Change the seed (random state)\n",
    "# What happened?\n",
    "# Why did it happen?"
   ]
  },
  {
   "cell_type": "code",
   "execution_count": 11,
   "metadata": {},
   "outputs": [],
   "source": [
    "# Task B:\n",
    "# Try to find best number of clusters for Fowlkles mallow score \n",
    "# Does finding from task A influnce your algorithm here?"
   ]
  },
  {
   "cell_type": "code",
   "execution_count": 12,
   "metadata": {},
   "outputs": [],
   "source": [
    "# Task C:\n",
    "# Look into data and try to explain why 10 might not be the best number of clusters\n",
    "# Hint: Is there any difference between same numbers assigned to different clusters?"
   ]
  },
  {
   "cell_type": "code",
   "execution_count": 13,
   "metadata": {},
   "outputs": [],
   "source": [
    "# Task D:\n",
    "# Try either some preprocessing (decorelation of data or some simple image transformation)\n",
    "# or some other clustering algorithm to get clustering with higher Fowlkles mallow score "
   ]
  },
  {
   "cell_type": "code",
   "execution_count": null,
   "metadata": {},
   "outputs": [],
   "source": []
  }
 ],
 "metadata": {
  "kernelspec": {
   "display_name": "Python 3",
   "language": "python",
   "name": "python3"
  },
  "language_info": {
   "codemirror_mode": {
    "name": "ipython",
    "version": 3
   },
   "file_extension": ".py",
   "mimetype": "text/x-python",
   "name": "python",
   "nbconvert_exporter": "python",
   "pygments_lexer": "ipython3",
   "version": "3.8.2"
  }
 },
 "nbformat": 4,
 "nbformat_minor": 4
}

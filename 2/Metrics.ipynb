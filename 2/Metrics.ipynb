{
 "cells": [
  {
   "cell_type": "code",
   "execution_count": 1,
   "id": "f1ca2eff",
   "metadata": {},
   "outputs": [],
   "source": [
    "import matplotlib.pyplot as plt\n",
    "import numpy as np"
   ]
  },
  {
   "cell_type": "code",
   "execution_count": 2,
   "id": "f97fffa7",
   "metadata": {},
   "outputs": [],
   "source": [
    "# Read very carefully what you should submit in each task"
   ]
  },
  {
   "cell_type": "code",
   "execution_count": 3,
   "id": "7fab2f40",
   "metadata": {},
   "outputs": [],
   "source": [
    "# This tutorial will be about metrics in context of machine learning.\n",
    "# Choosing wrong metric will ensure, that your ML project is failure, so choose wisely.\n",
    "\n",
    "# Metric takes predictions and ground truth (called targets) and outputs (usually) one number.\n",
    "# Note that metric does not have to differentiable (example is accuracy)\n",
    "# Also metric should be understandable without having PhD in math \n",
    "# (that means that binary crossentropy is usually a bad metric)."
   ]
  },
  {
   "cell_type": "markdown",
   "id": "f49996a2",
   "metadata": {},
   "source": [
    "## Absolute vs squared error"
   ]
  },
  {
   "cell_type": "code",
   "execution_count": 4,
   "id": "5e4dd8ac",
   "metadata": {},
   "outputs": [
    {
     "data": {
      "text/plain": [
       "(2.5, 1.5)"
      ]
     },
     "execution_count": 4,
     "metadata": {},
     "output_type": "execute_result"
    }
   ],
   "source": [
    "# Consider following two metrics, with example calculation below\n",
    "\n",
    "def mean_squared_error(predictions, targets):\n",
    "    return np.square(predictions - targets).mean()\n",
    "\n",
    "def mean_absolute_error(predictions, targets):\n",
    "    return np.abs(predictions - targets).mean()\n",
    "\n",
    "predictions = np.array([0, 5])\n",
    "targets = np.array([1, 7])\n",
    "mean_squared_error(predictions, targets), mean_absolute_error(predictions, targets)"
   ]
  },
  {
   "cell_type": "code",
   "execution_count": 5,
   "id": "93c414da",
   "metadata": {},
   "outputs": [
    {
     "name": "stdout",
     "output_type": "stream",
     "text": [
      "Target vs predictions1\n"
     ]
    },
    {
     "data": {
      "image/png": "[encoded data removed]",
      "text/plain": [
       "<Figure size 432x288 with 1 Axes>"
      ]
     },
     "metadata": {
      "needs_background": "light"
     },
     "output_type": "display_data"
    },
    {
     "name": "stdout",
     "output_type": "stream",
     "text": [
      "Target vs predictions2\n"
     ]
    },
    {
     "data": {
      "image/png": "[encoded data removed]",
      "text/plain": [
       "<Figure size 432x288 with 1 Axes>"
      ]
     },
     "metadata": {
      "needs_background": "light"
     },
     "output_type": "display_data"
    }
   ],
   "source": [
    "# Which one is better? That depends on the problem. \n",
    "# Consider following set of predictions and targets.\n",
    "\n",
    "targets =      np.array([0,1,2,3,4])\n",
    "predictions1 = np.array([0,1,2,3,12])\n",
    "predictions2 = np.array([4,3,2,1,0])\n",
    "\n",
    "print(\"Target vs predictions1\")\n",
    "plt.scatter(targets, predictions1)\n",
    "plt.ylim(-1, 13)\n",
    "plt.grid()\n",
    "plt.xlabel(\"Targets\")\n",
    "plt.ylabel(\"Predictions 1\")\n",
    "plt.show()\n",
    "\n",
    "print(\"Target vs predictions2\")\n",
    "plt.scatter(targets, predictions2)\n",
    "plt.ylim(-1, 13)\n",
    "plt.grid()\n",
    "plt.xlabel(\"Targets\")\n",
    "plt.ylabel(\"Predictions 2\")\n",
    "plt.show()"
   ]
  },
  {
   "cell_type": "code",
   "execution_count": 6,
   "id": "344b2d4d",
   "metadata": {},
   "outputs": [
    {
     "name": "stdout",
     "output_type": "stream",
     "text": [
      "Mean squared error (MSE)\n",
      "MSE for predictions 1 12.8\n",
      "MSE for predictions 2 8.0\n",
      "Mean absolute error (MAE)\n",
      "MAE for predictions 1 1.6\n",
      "MAE for predictions 2 2.4\n"
     ]
    }
   ],
   "source": [
    "# It seems that first set of prediction is either completelly correct, or off by a lot.\n",
    "# Maybe it is some outlier in data or wrong data point.\n",
    "# Second set of prediction has completelly opposite trend and does not look right.\n",
    "# Let's look at metrics\n",
    "\n",
    "print(\"Mean squared error (MSE)\")\n",
    "print(\"MSE for predictions 1\", mean_squared_error(predictions1, targets))\n",
    "print(\"MSE for predictions 2\", mean_squared_error(predictions2, targets))\n",
    "print(\"Mean absolute error (MAE)\")\n",
    "print(\"MAE for predictions 1\", mean_absolute_error(predictions1, targets))\n",
    "print(\"MAE for predictions 2\", mean_absolute_error(predictions2, targets))"
   ]
  },
  {
   "cell_type": "code",
   "execution_count": 7,
   "id": "ae208839",
   "metadata": {},
   "outputs": [],
   "source": [
    "# Now we see, that metrics rank our predictions differently. \n",
    "# Squared error like the second ones better.\n",
    "# Absolute error prefers first one.\n",
    "# This is not completelly good argument that one metric is better than second one,\n",
    "# but demonstrates, that squared error is sensitive to outliers.\n",
    "\n",
    "# Also it is better argument than just looking at the values. Any metric can be\n",
    "# scaled by a constant, or counted in different units\n",
    "# so comparing numerical output of two metrics is like comparing volts with meters \n",
    "# and basically meaningless.\n",
    "# But we can still compare ability of metric to rank data in a meaningful way."
   ]
  },
  {
   "cell_type": "markdown",
   "id": "2fe50367",
   "metadata": {},
   "source": [
    "#### Task 1"
   ]
  },
  {
   "cell_type": "code",
   "execution_count": 8,
   "id": "d976f92c",
   "metadata": {},
   "outputs": [],
   "source": [
    "# Task 1:\n",
    "# You are predicting prices of flats.\n",
    "# Your boss tells you, that nobody cares about small errors, but big errors are a problem.\n",
    "# You also manually checked everything and there are no outliers.\n",
    "\n",
    "# Which metric would you choose between square and absolute error?\n",
    "# Provide justification and also demonstrate reason for your choice by constructing \n",
    "# some small dataset with multiple sets of predictions\n",
    "# and comparing outputs of metrics."
   ]
  },
  {
   "cell_type": "markdown",
   "id": "3eccf859",
   "metadata": {},
   "source": [
    "## Custom metrics - task 2"
   ]
  },
  {
   "cell_type": "code",
   "execution_count": 9,
   "id": "5590deb2",
   "metadata": {},
   "outputs": [],
   "source": [
    "# Keep in mind that you can also make a metric tailored to your usecase, \n",
    "# we will do this in the task below."
   ]
  },
  {
   "cell_type": "code",
   "execution_count": 10,
   "id": "a576ed6d",
   "metadata": {},
   "outputs": [],
   "source": [
    "# Task 2:\n",
    "# You are predicting prices of flats.\n",
    "# Your boss made a new contract, which has following terms.\n",
    "# For each prediction (for one flat):\n",
    "# - If your prediction has error less (or equal) than 5%, than your company will earn 1000$\n",
    "# - If your prediction has error more than 5%, your company pays 10000$ fine.\n",
    "\n",
    "# Construct a custom metric for comparing models in this setting.\n",
    "# Provide justification and also demonstrate reason for your choice by constructing \n",
    "# some small dataset with multiple sets of predictions\n",
    "# and comparing outputs of metrics. Also demonstrate that your metric is better\n",
    "# than selected metric from task 1."
   ]
  },
  {
   "cell_type": "markdown",
   "id": "ce59ea5e",
   "metadata": {},
   "source": [
    "## Metrics for binary classification"
   ]
  },
  {
   "cell_type": "code",
   "execution_count": 11,
   "id": "903848d4",
   "metadata": {},
   "outputs": [
    {
     "data": {
      "text/plain": [
       "array([1, 1, 1, 1, 1, 0, 0, 0, 0, 0, 0, 0, 0, 0, 0, 0, 0, 0, 0, 0, 0, 0,\n",
       "       0, 0, 0, 0, 0, 0, 0, 0, 0, 0, 0, 0, 0, 0, 0, 0, 0, 0, 0, 0, 0, 0,\n",
       "       0, 0, 0, 0, 0, 0])"
      ]
     },
     "execution_count": 11,
     "metadata": {},
     "output_type": "execute_result"
    }
   ],
   "source": [
    "# Now we switch our focus to classification. \n",
    "# In all cases below the targets will be either 0 or 1.\n",
    "# Also predictions will be either 0 or 1.\n",
    "\n",
    "# Let's generate some targets\n",
    "\n",
    "def gen_targets(num_ones, num_zeros):\n",
    "    return np.array(([1] * num_ones) + ([0]*num_zeros))\n",
    "\n",
    "targets = gen_targets(5, 45)\n",
    "targets"
   ]
  },
  {
   "cell_type": "code",
   "execution_count": 12,
   "id": "ceb4036f",
   "metadata": {},
   "outputs": [
    {
     "data": {
      "text/plain": [
       "0.6666666666666666"
      ]
     },
     "execution_count": 12,
     "metadata": {},
     "output_type": "execute_result"
    }
   ],
   "source": [
    "# Let's talk about accuracy. It is quite simple measures.\n",
    "# Just how many times your model is right.\n",
    "\n",
    "def accuracy(predictions, targets):\n",
    "    return (predictions == targets).mean()\n",
    "\n",
    "accuracy(np.array([1,0,1]), np.array([1,0,0]))"
   ]
  },
  {
   "cell_type": "markdown",
   "id": "da05a3ac",
   "metadata": {},
   "source": [
    "#### Task 3"
   ]
  },
  {
   "cell_type": "code",
   "execution_count": 13,
   "id": "d897456f",
   "metadata": {},
   "outputs": [
    {
     "data": {
      "text/plain": [
       "0.64"
      ]
     },
     "execution_count": 13,
     "metadata": {},
     "output_type": "execute_result"
    }
   ],
   "source": [
    "# Task 3:\n",
    "# Design a predictor, which gets 90% accuracy on targets created two cells above\n",
    "# And yes, this predictor should not take any input.\n",
    "\n",
    "def predictor():\n",
    "    # Make this better\n",
    "    return np.random.uniform(0, 1) < 0.5\n",
    "\n",
    "accuracy(np.array([predictor() for _ in targets]), targets)"
   ]
  },
  {
   "cell_type": "markdown",
   "id": "f5f982a5",
   "metadata": {},
   "source": [
    "### More metrics for classification"
   ]
  },
  {
   "cell_type": "code",
   "execution_count": 14,
   "id": "8c40e2a6",
   "metadata": {},
   "outputs": [
    {
     "data": {
      "text/plain": [
       "(0.5,\n",
       " 0.6666666666666666,\n",
       " 0.6,\n",
       " array([[3, 1],\n",
       "        [2, 2]]))"
      ]
     },
     "execution_count": 14,
     "metadata": {},
     "output_type": "execute_result"
    }
   ],
   "source": [
    "# Here are couple more metrics, which are common for binary classification, \n",
    "# You can also look there definitions on wikipedia\n",
    "\n",
    "def precision(predictions, targets):\n",
    "    # When we predict 1, how often are we correct?\n",
    "    predicted_1 = (predictions == 1).sum()\n",
    "    predicted_1_and_was_correct = ((predictions == 1) & (targets == 1)).sum()\n",
    "\n",
    "    return predicted_1_and_was_correct / predicted_1\n",
    "\n",
    "# Also called sensitivity\n",
    "def recall(predictions, targets):\n",
    "    # When we should have predicted 1, how often are we correct?\n",
    "    target_1 = (targets == 1).sum()\n",
    "    target_1_and_was_correct = ((predictions == 1) & (targets == 1)).sum()\n",
    "\n",
    "    return target_1_and_was_correct / target_1\n",
    "\n",
    "def specificity(predictions, targets):\n",
    "    # When we should have predicted 0, how often are we correct?\n",
    "    target_0 = (targets == 0).sum()\n",
    "    target_0_and_was_correct = ((predictions == 0) & (targets == 0)).sum()\n",
    "\n",
    "    return target_0_and_was_correct / target_0\n",
    "\n",
    "def confusion_matrix(predictions, targets):\n",
    "    # Calculates counts for all combinations of predictions and targets\n",
    "    \n",
    "    return np.array([\n",
    "        [((targets == 0) & (predictions == 0)).sum(), ((targets == 0) & (predictions == 1)).sum()],\n",
    "        [((targets == 1) & (predictions == 0)).sum(), ((targets == 1) & (predictions == 1)).sum()]\n",
    "    ])\n",
    "\n",
    "targets =     np.array([1,1,1,0,0,0,0,0])\n",
    "predictions = np.array([1,0,1,0,0,1,1,0])\n",
    "\n",
    "precision(predictions, targets), recall(predictions, targets), specificity(predictions, targets), confusion_matrix(targets, predictions)"
   ]
  },
  {
   "cell_type": "markdown",
   "id": "8fd59d6a",
   "metadata": {},
   "source": [
    "#### Task 4"
   ]
  },
  {
   "cell_type": "code",
   "execution_count": 15,
   "id": "22e26528",
   "metadata": {},
   "outputs": [],
   "source": [
    "# Task 4\n",
    "# For recall and specificity create a simple predictor (like for accuracy),\n",
    "# which gets score 1 for given metric on any targets."
   ]
  },
  {
   "cell_type": "markdown",
   "id": "e54640c4",
   "metadata": {},
   "source": [
    "### Is predictor useful?"
   ]
  },
  {
   "cell_type": "code",
   "execution_count": 16,
   "id": "e176eb47",
   "metadata": {},
   "outputs": [
    {
     "data": {
      "text/plain": [
       "(array([1, 1, 1, 1, 1, 0, 0, 0, 0, 0, 0, 0, 0, 0, 0, 0, 0, 0, 0, 0, 0, 0,\n",
       "        0, 0, 0, 0, 0, 0, 0, 0, 0, 0, 0, 0, 0, 0, 0, 0, 0, 0, 0, 0, 0, 0,\n",
       "        0, 0, 0, 0, 0, 0]),\n",
       " array([1, 1, 1, 1, 1, 1, 1, 1, 1, 1, 1, 1, 1, 1, 0, 0, 0, 0, 0, 0, 0, 0,\n",
       "        0, 0, 0, 0, 0, 0, 0, 0, 0, 0, 0, 0, 0, 0, 0, 0, 0, 0, 0, 0, 0, 0,\n",
       "        0, 0, 0, 0, 0, 0]))"
      ]
     },
     "execution_count": 16,
     "metadata": {},
     "output_type": "execute_result"
    }
   ],
   "source": [
    "# Let's generate some new data\n",
    "\n",
    "def gen_data(num_ones, num_zeros):\n",
    "    targets = gen_targets(num_ones, num_zeros)\n",
    "    num_mistakes = int(num_zeros / 5)\n",
    "    predictions = np.array(([1] * num_ones) + ([1] * num_mistakes) + ([0] * (num_zeros - num_mistakes)))\n",
    "    return targets, predictions\n",
    "\n",
    "targets, predictions = gen_data(5, 45)\n",
    "targets, predictions"
   ]
  },
  {
   "cell_type": "code",
   "execution_count": 17,
   "id": "6d93bedc",
   "metadata": {},
   "outputs": [
    {
     "data": {
      "text/plain": [
       "0.82"
      ]
     },
     "execution_count": 17,
     "metadata": {},
     "output_type": "execute_result"
    }
   ],
   "source": [
    "# Well our prediction have worse accuracy than trivial predictor from task 3 (that one should get 90%)\n",
    "\n",
    "accuracy(predictions, targets)"
   ]
  },
  {
   "cell_type": "markdown",
   "id": "1dd46d0e",
   "metadata": {},
   "source": [
    "#### Task 5"
   ]
  },
  {
   "cell_type": "code",
   "execution_count": 18,
   "id": "81e62e47",
   "metadata": {},
   "outputs": [],
   "source": [
    "# Task 5\n",
    "# Is our predictons from above really useless? Provide justification for your answer (hint: confusion matrix might help)\n",
    "# Argue with metrics, not with the code of the gen_data"
   ]
  },
  {
   "cell_type": "markdown",
   "id": "a93dcda8",
   "metadata": {},
   "source": [
    "### Metric sensitivity to prevalence"
   ]
  },
  {
   "cell_type": "code",
   "execution_count": 19,
   "id": "af42537e",
   "metadata": {},
   "outputs": [
    {
     "name": "stdout",
     "output_type": "stream",
     "text": [
      "Accuracy 0.81 0.85\n",
      "Precision 0.20833333333333334 0.625\n",
      "Recall 1.0 1.0\n",
      "Specificity 0.8 0.8\n"
     ]
    }
   ],
   "source": [
    "# This is data sample taken in general population\n",
    "targets, predictions = gen_data(5, 95)\n",
    "\n",
    "# This is data sample taken in hospital\n",
    "targets2, predictions2 = gen_data(5, 15)\n",
    "\n",
    "# Note that some metrics are sensitive to prevalence (% of positive target) in data\n",
    "\n",
    "print(\"Accuracy\", accuracy(predictions, targets), accuracy(predictions2, targets2))\n",
    "print(\"Precision\", precision(predictions, targets), precision(predictions2, targets2))\n",
    "print(\"Recall\", recall(predictions, targets), recall(predictions2, targets2))\n",
    "print(\"Specificity\", specificity(predictions, targets), specificity(predictions2, targets2))"
   ]
  },
  {
   "cell_type": "markdown",
   "id": "fbf59c94",
   "metadata": {},
   "source": [
    "## ROC AUC"
   ]
  },
  {
   "cell_type": "code",
   "execution_count": 20,
   "id": "6791c5c1",
   "metadata": {},
   "outputs": [],
   "source": [
    "# Now we still consider binary target values, but our \n",
    "# prediction is a probability of output being 1 (as in logistic regression)\n",
    "\n",
    "# Receiver operating characterics (https://en.wikipedia.org/wiki/Receiver_operating_characteristic)\n",
    "# is a metric for classification, which\n",
    "# sums quality of prediction into one number.\n",
    "# It needs predictions of probability that output is one as an input and than plots\n",
    "# FPR (1 - specificity) and TPR (recall) for each treshold."
   ]
  },
  {
   "cell_type": "code",
   "execution_count": 21,
   "id": "db745746",
   "metadata": {},
   "outputs": [
    {
     "name": "stdout",
     "output_type": "stream",
     "text": [
      "[1 1 1 1 1 0 0 0 0 0 0 0 0 0 0 0 0 0 0 0 0 0 0 0 0 0 0 0 0 0 0 0 0 0 0 0 0\n",
      " 0 0 0 0 0 0 0 0 0 0 0 0 0] [0.86671261 0.8766827  0.63755819 0.55929023 0.84256092 0.23355855\n",
      " 0.38235263 0.50510778 0.60012718 0.16594599 0.15832221 0.14365426\n",
      " 0.49421663 0.5498652  0.50996382 0.41901751 0.43637064 0.15213204\n",
      " 0.63221227 0.11849567 0.05612646 0.43353618 0.38544063 0.60089486\n",
      " 0.43492811 0.69939262 0.52704498 0.42588563 0.05211332 0.32726324\n",
      " 0.68237792 0.40747395 0.60849249 0.23564261 0.27838429 0.63081837\n",
      " 0.60690989 0.39347103 0.45302843 0.55802714 0.03695159 0.10163831\n",
      " 0.11363727 0.43557794 0.40942508 0.14231033 0.55745922 0.07931858\n",
      " 0.12504508 0.66775609]\n"
     ]
    },
    {
     "data": {
      "text/plain": [
       "<matplotlib.legend.Legend at 0x7f5bdf9b4dc0>"
      ]
     },
     "execution_count": 21,
     "metadata": {},
     "output_type": "execute_result"
    },
    {
     "data": {
      "image/png": "[encoded data removed]",
      "text/plain": [
       "<Figure size 432x288 with 1 Axes>"
      ]
     },
     "metadata": {
      "needs_background": "light"
     },
     "output_type": "display_data"
    }
   ],
   "source": [
    "def gen_data_roc(num_ones, num_zeros):\n",
    "    targets = gen_targets(num_ones, num_zeros)\n",
    "    predictions = np.concatenate([np.random.uniform(0.5, 1, size=num_ones), np.random.uniform(0, 0.7, size=num_zeros)])\n",
    "    return targets, predictions\n",
    "\n",
    "def gen_data_perfect(num_ones, num_zeros):\n",
    "    targets = gen_targets(num_ones, num_zeros)\n",
    "    predictions = np.concatenate([np.random.uniform(1, 1, size=num_ones), np.random.uniform(0, 0, size=num_zeros)])\n",
    "    return targets, predictions\n",
    "\n",
    "def gen_data_random(num_ones, num_zeros):\n",
    "    targets = gen_targets(num_ones, num_zeros)\n",
    "    predictions = np.concatenate([np.random.uniform(0, 1, size=num_ones), np.random.uniform(0, 1, size=num_zeros)])\n",
    "    return targets, predictions\n",
    "\n",
    "targets, predictions = gen_data_roc(50, 450)\n",
    "targets_perf, predictions_perf = gen_data_perfect(50, 450)\n",
    "targets_rand, predictions_rand = gen_data_random(50, 450)\n",
    "print(targets[::10], predictions[::10])\n",
    "\n",
    "from sklearn import metrics\n",
    "\n",
    "fpr, tpr, thresholds = metrics.roc_curve(targets, predictions)\n",
    "plt.plot(fpr, tpr, label=\"generic\")\n",
    "\n",
    "fpr, tpr, thresholds = metrics.roc_curve(targets_perf, predictions_perf)\n",
    "plt.plot(fpr, tpr, label=\"perfect\")\n",
    "\n",
    "fpr, tpr, thresholds = metrics.roc_curve(targets_rand, predictions_rand)\n",
    "plt.plot(fpr, tpr, label=\"random\")\n",
    "\n",
    "plt.legend()"
   ]
  },
  {
   "cell_type": "code",
   "execution_count": 22,
   "id": "9e6f5295",
   "metadata": {},
   "outputs": [
    {
     "name": "stdout",
     "output_type": "stream",
     "text": [
      "generic 0.9477777777777777\n",
      "perfect 1.0\n",
      "random 0.5371555555555556\n"
     ]
    }
   ],
   "source": [
    "# Notice that better predictor are more leaning towards left and up.\n",
    "# We can just take area under curve\n",
    "\n",
    "print(\"generic\", metrics.roc_auc_score(targets, predictions))\n",
    "print(\"perfect\", metrics.roc_auc_score(targets_perf, predictions_perf))\n",
    "print(\"random\", metrics.roc_auc_score(targets_rand, predictions_rand))"
   ]
  },
  {
   "cell_type": "markdown",
   "id": "94f90252",
   "metadata": {},
   "source": [
    "#### Task 6"
   ]
  },
  {
   "cell_type": "code",
   "execution_count": 23,
   "id": "cd82e8ed",
   "metadata": {},
   "outputs": [],
   "source": [
    "# Task 6:\n",
    "# Is RoC sensitive to prevalence (number of ones in target)?\n",
    "# Provide justification."
   ]
  },
  {
   "cell_type": "markdown",
   "id": "38cc8fda",
   "metadata": {},
   "source": [
    "#### Task 7:"
   ]
  },
  {
   "cell_type": "code",
   "execution_count": 24,
   "id": "5e081028",
   "metadata": {},
   "outputs": [],
   "source": [
    "# Task 7:\n",
    "# You are running fraud detection algorithm for bank transactions.\n",
    "# Algorithm takes a transaction and outputs probability that it is a fraud.\n",
    "\n",
    "# Bank regulation of our country say that you should catch 95% of fraudalent transactions.\n",
    "# Thus, you will select a threshold which catches 95% of frauds, since you have to follow\n",
    "# the regulation. (i.e. your prediction becomes \"probability > threshold\")\n",
    "\n",
    "# Regulation does not care about false positives, that's problem of your customer support.\n",
    "# But if they get too many cases, they will get pisses and complain to your managers. \n",
    "# What metric will you choose to evaluate your fraud detection algorithm? \n",
    "# Is roc_auc_score a good metric? If not, give a better metric."
   ]
  }
 ],
 "metadata": {
  "kernelspec": {
   "display_name": "Python 3",
   "language": "python",
   "name": "python3"
  },
  "language_info": {
   "codemirror_mode": {
    "name": "ipython",
    "version": 3
   },
   "file_extension": ".py",
   "mimetype": "text/x-python",
   "name": "python",
   "nbconvert_exporter": "python",
   "pygments_lexer": "ipython3",
   "version": "3.8.2"
  }
 },
 "nbformat": 4,
 "nbformat_minor": 5
}
